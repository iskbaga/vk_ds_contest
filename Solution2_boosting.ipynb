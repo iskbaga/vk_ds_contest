{
  "metadata": {
    "kernelspec": {
      "name": "python3",
      "display_name": "Python 3",
      "language": "python"
    },
    "language_info": {
      "codemirror_mode": {
        "name": "ipython",
        "version": 3
      },
      "version": "3.6.1",
      "pygments_lexer": "ipython3",
      "name": "python",
      "mimetype": "text/x-python",
      "file_extension": ".py",
      "nbconvert_exporter": "python"
    },
    "kaggle": {
      "accelerator": "none",
      "dataSources": [
        {
          "sourceId": 7162,
          "databundleVersionId": 44320,
          "sourceType": "competition"
        }
      ],
      "isInternetEnabled": false,
      "language": "python",
      "sourceType": "notebook",
      "isGpuEnabled": false
    },
    "colab": {
      "provenance": []
    }
  },
  "nbformat_minor": 0,
  "nbformat": 4,
  "cells": [
    {
      "cell_type": "markdown",
      "source": [
        "#Решение через LightGBM"
      ],
      "metadata": {
        "id": "z-Mww2vHgofq"
      }
    },
    {
      "cell_type": "code",
      "source": [
        "!pip install datatable"
      ],
      "metadata": {
        "id": "E_NQ683RhVX7",
        "colab": {
          "base_uri": "https://localhost:8080/"
        },
        "outputId": "29a19c2d-27b3-44d4-abdf-e77b97915370"
      },
      "execution_count": null,
      "outputs": [
        {
          "output_type": "stream",
          "name": "stdout",
          "text": [
            "Requirement already satisfied: datatable in /usr/local/lib/python3.10/dist-packages (1.1.0)\n"
          ]
        }
      ]
    },
    {
      "cell_type": "code",
      "source": [
        "import numpy as np\n",
        "import pandas as pd\n",
        "from sklearn.model_selection import KFold\n",
        "import lightgbm as lgb\n",
        "import datatable as dt"
      ],
      "metadata": {
        "id": "Yax5qOSGhXZO"
      },
      "execution_count": null,
      "outputs": []
    },
    {
      "cell_type": "code",
      "source": [
        "from google.colab import drive\n",
        "drive.mount(\"/gdrive\", force_remount=True)"
      ],
      "metadata": {
        "id": "wciDvtLRhEs5",
        "outputId": "160fe052-daef-4052-ac6d-2a9edea1c0bf",
        "colab": {
          "base_uri": "https://localhost:8080/"
        }
      },
      "execution_count": null,
      "outputs": [
        {
          "output_type": "stream",
          "name": "stdout",
          "text": [
            "Mounted at /gdrive\n"
          ]
        }
      ]
    },
    {
      "cell_type": "code",
      "source": [
        "train = dt.fread('/gdrive/MyDrive/vk_contest/train.csv').to_pandas()\n",
        "test = dt.fread('/gdrive/MyDrive/vk_contest/test.csv').to_pandas()\n",
        "songs = dt.fread('/gdrive/MyDrive/vk_contest/songs.csv').to_pandas()\n",
        "members = dt.fread('/gdrive/MyDrive/vk_contest/members.csv').to_pandas()"
      ],
      "metadata": {
        "collapsed": true,
        "jupyter": {
          "outputs_hidden": true
        },
        "id": "vI33FzwRgofs"
      },
      "execution_count": null,
      "outputs": []
    },
    {
      "cell_type": "markdown",
      "source": [
        "Преобразование данных в категориальные"
      ],
      "metadata": {
        "id": "dz-nd2-lYs13"
      }
    },
    {
      "cell_type": "code",
      "source": [
        "for i in songs.columns:\n",
        "    if songs[i].dtype != 'int32':\n",
        "        songs[i] = songs[i].astype('category')\n",
        "songs.info()"
      ],
      "metadata": {
        "colab": {
          "base_uri": "https://localhost:8080/"
        },
        "id": "34fr8tHHvdAM",
        "outputId": "b9269ac1-0b3e-4bba-a220-9e335e2f2a5a"
      },
      "execution_count": null,
      "outputs": [
        {
          "output_type": "stream",
          "name": "stdout",
          "text": [
            "<class 'pandas.core.frame.DataFrame'>\n",
            "RangeIndex: 2296320 entries, 0 to 2296319\n",
            "Data columns (total 7 columns):\n",
            " #   Column       Dtype   \n",
            "---  ------       -----   \n",
            " 0   song_id      category\n",
            " 1   song_length  int32   \n",
            " 2   genre_ids    category\n",
            " 3   artist_name  category\n",
            " 4   composer     category\n",
            " 5   lyricist     category\n",
            " 6   language     category\n",
            "dtypes: category(6), int32(1)\n",
            "memory usage: 157.6 MB\n"
          ]
        }
      ]
    },
    {
      "cell_type": "code",
      "source": [
        "for i in train.columns:\n",
        "    if train[i].dtype == object:\n",
        "        train[i] = train[i].astype('category')\n",
        "        test[i] = test[i].astype('category')\n",
        "\n",
        "members['registration_init_time'] = pd.to_datetime(members['registration_init_time'])\n",
        "members['expiration_date'] = pd.to_datetime(members['expiration_date'])\n",
        "\n",
        "for i in members.columns:\n",
        "    if members[i].dtype != 'datetime64[ns]':\n",
        "        members[i] = members[i].astype('category')\n",
        "members.info()"
      ],
      "metadata": {
        "colab": {
          "base_uri": "https://localhost:8080/"
        },
        "id": "5vgdbk7GiFwn",
        "outputId": "570a7989-0c16-4d68-c046-ea263c1f0a92"
      },
      "execution_count": null,
      "outputs": [
        {
          "output_type": "stream",
          "name": "stdout",
          "text": [
            "<class 'pandas.core.frame.DataFrame'>\n",
            "RangeIndex: 34403 entries, 0 to 34402\n",
            "Data columns (total 7 columns):\n",
            " #   Column                  Non-Null Count  Dtype         \n",
            "---  ------                  --------------  -----         \n",
            " 0   msno                    34403 non-null  category      \n",
            " 1   city                    34403 non-null  category      \n",
            " 2   bd                      34403 non-null  category      \n",
            " 3   gender                  34403 non-null  category      \n",
            " 4   registered_via          34403 non-null  category      \n",
            " 5   registration_init_time  34403 non-null  datetime64[ns]\n",
            " 6   expiration_date         34403 non-null  datetime64[ns]\n",
            "dtypes: category(5), datetime64[ns](2)\n",
            "memory usage: 2.1 MB\n"
          ]
        }
      ]
    },
    {
      "cell_type": "markdown",
      "source": [
        "Преобразование дат в числовой признак показывающий оставшееся количество дней, мне кажется этот признак достаточно информативен и не привязан к какому-либо отрезку времени (не берется в учет начало отсчета)"
      ],
      "metadata": {
        "id": "DpocbRZOY1JR"
      }
    },
    {
      "cell_type": "code",
      "source": [
        "members['count'] = (members['expiration_date'] - members['registration_init_time']).dt.days.astype(int)\n",
        "members.drop(['registration_init_time','expiration_date'], axis=1, inplace=True)"
      ],
      "metadata": {
        "_cell_guid": "d677d32e-ffe6-46f0-837d-6f812187a9ca",
        "_uuid": "4eacd12508233d07a8a278595f677f36e021c409",
        "collapsed": true,
        "jupyter": {
          "outputs_hidden": true
        },
        "id": "OMGAu_ilgofs"
      },
      "execution_count": null,
      "outputs": []
    },
    {
      "cell_type": "markdown",
      "source": [
        "Конкатенация таблиц по msno и song_id"
      ],
      "metadata": {
        "id": "I9hY7OmsYxUy"
      }
    },
    {
      "cell_type": "code",
      "source": [
        "test = pd.merge(left = test, on='msno', right = members,how ='left')\n",
        "train = pd.merge(left = train, on='msno', right = members,how ='left')\n",
        "test = pd.merge(left = test, on='song_id', right = songs, how = 'left')\n",
        "train = pd.merge(left = train, on='song_id', right = songs, how = 'left')\n",
        "\n",
        "nan_length = max(test[\"song_length\"].unique()) + 123\n",
        "test[\"song_length\"].fillna(nan_length,inplace=True)\n",
        "train[\"song_length\"].fillna(nan_length,inplace=True)\n",
        "\n",
        "test[\"song_length\"] = test[\"song_length\"].astype(int)\n",
        "train[\"song_length\"] = train[\"song_length\"].astype(int)"
      ],
      "metadata": {
        "collapsed": true,
        "jupyter": {
          "outputs_hidden": true
        },
        "id": "PV_2_YZqgoft"
      },
      "execution_count": null,
      "outputs": []
    },
    {
      "cell_type": "code",
      "source": [
        "test[\"msno\"] = test[\"msno\"].astype('category')\n",
        "train[\"msno\"] = train[\"msno\"].astype('category')\n",
        "test[\"song_id\"] = test[\"song_id\"].astype('category')\n",
        "train[\"song_id\"] = train[\"song_id\"].astype('category')"
      ],
      "metadata": {
        "id": "BRl0_JMM0r0A"
      },
      "execution_count": null,
      "outputs": []
    },
    {
      "cell_type": "code",
      "source": [
        "train.info()"
      ],
      "metadata": {
        "colab": {
          "base_uri": "https://localhost:8080/"
        },
        "id": "3D8QmMzfli9r",
        "outputId": "0005e1de-525c-46ad-931c-6fafba67afe4"
      },
      "execution_count": null,
      "outputs": [
        {
          "output_type": "stream",
          "name": "stdout",
          "text": [
            "<class 'pandas.core.frame.DataFrame'>\n",
            "Int64Index: 7377418 entries, 0 to 7377417\n",
            "Data columns (total 17 columns):\n",
            " #   Column              Dtype   \n",
            "---  ------              -----   \n",
            " 0   msno                category\n",
            " 1   song_id             category\n",
            " 2   source_system_tab   category\n",
            " 3   source_screen_name  category\n",
            " 4   source_type         category\n",
            " 5   target              bool    \n",
            " 6   city                category\n",
            " 7   bd                  category\n",
            " 8   gender              category\n",
            " 9   registered_via      category\n",
            " 10  count               int64   \n",
            " 11  song_length         int64   \n",
            " 12  genre_ids           category\n",
            " 13  artist_name         category\n",
            " 14  composer            category\n",
            " 15  lyricist            category\n",
            " 16  language            category\n",
            "dtypes: bool(1), category(14), int64(2)\n",
            "memory usage: 410.2 MB\n"
          ]
        }
      ]
    },
    {
      "cell_type": "markdown",
      "source": [
        "Обучение модели и получение результатов, гиперпараметры были подобранны опытным путем, из-за сложности модели я не стал их сильно трогать, но так как CatBoost имел проблемы описанные в readMe я все равно остался на LightGBM"
      ],
      "metadata": {
        "id": "LJAr2IQLZJOH"
      }
    },
    {
      "cell_type": "code",
      "source": [
        "folds = KFold(n_splits=5)\n",
        "scores = np.zeros(len(test))\n",
        "\n",
        "parameters = {\n",
        "    'objective': 'binary',\n",
        "    'metric': 'binary_logloss',\n",
        "    'boosting': 'gbdt'\n",
        "}\n",
        "\n",
        "for train_i, val_i in folds.split(train):\n",
        "    train_data = lgb.Dataset(train.drop('target', axis=1).iloc[train_i], label=train.loc[train_i, 'target'])\n",
        "    val_data = lgb.Dataset(train.drop('target', axis=1).iloc[val_i], label=train.loc[val_i, 'target'])\n",
        "    model = lgb.train(parameters, train_data, valid_sets=[val_data])\n",
        "    scores += model.predict(test.drop('id', axis=1))\n",
        "\n",
        "submit_data = test.copy()\n",
        "submit_data['target'] = scores / folds.n_splits\n",
        "submit_data = submit_data[['id', 'target']]\n",
        "submit_data.to_csv('submit.csv', index=False)\n"
      ],
      "metadata": {
        "id": "cvf6WPcsgoft"
      },
      "execution_count": null,
      "outputs": []
    }
  ]
}